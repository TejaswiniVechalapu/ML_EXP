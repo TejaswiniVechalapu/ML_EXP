{
  "nbformat": 4,
  "nbformat_minor": 0,
  "metadata": {
    "colab": {
      "provenance": [],
      "mount_file_id": "13NjNPvDkFVgUfueeRL1kqAE48oAk0mGj",
      "authorship_tag": "ABX9TyMC2YhUKrQlnVt/WkDP9CPp",
      "include_colab_link": true
    },
    "kernelspec": {
      "name": "python3",
      "display_name": "Python 3"
    },
    "language_info": {
      "name": "python"
    }
  },
  "cells": [
    {
      "cell_type": "markdown",
      "metadata": {
        "id": "view-in-github",
        "colab_type": "text"
      },
      "source": [
        "<a href=\"https://colab.research.google.com/github/TejaswiniVechalapu/ML_EXP/blob/main/ml(backpropagation).ipynb\" target=\"_parent\"><img src=\"https://colab.research.google.com/assets/colab-badge.svg\" alt=\"Open In Colab\"/></a>"
      ]
    },
    {
      "cell_type": "code",
      "execution_count": null,
      "metadata": {
        "id": "VC0BJDPP5jyo"
      },
      "outputs": [],
      "source": [
        "import numpy as np"
      ]
    },
    {
      "cell_type": "code",
      "source": [
        "def sigmoid(x):\n",
        "    return 1 / (1 + np.exp(-x))\n",
        "def sigmoid_derivative(x):\n",
        "    return x * (1 - x)"
      ],
      "metadata": {
        "id": "T_Lswct56OL4"
      },
      "execution_count": null,
      "outputs": []
    },
    {
      "cell_type": "code",
      "source": [
        "input_data = np.array(input(\"Enter input data separated by commas: \").split(','), dtype=float)"
      ],
      "metadata": {
        "colab": {
          "base_uri": "https://localhost:8080/"
        },
        "id": "oIDcKhiK626o",
        "outputId": "9523e84e-3014-45af-ba1a-581cbf1335d3"
      },
      "execution_count": null,
      "outputs": [
        {
          "name": "stdout",
          "output_type": "stream",
          "text": [
            "Enter input data separated by commas: 0.1,0.5\n"
          ]
        }
      ]
    },
    {
      "cell_type": "code",
      "source": [
        "n_hidden_layers = int(input(\"Enter number of hidden layers: \"))"
      ],
      "metadata": {
        "colab": {
          "base_uri": "https://localhost:8080/"
        },
        "id": "y6N-FXyV7EVp",
        "outputId": "f765caaf-cda4-42ab-a086-3d58a491daf5"
      },
      "execution_count": null,
      "outputs": [
        {
          "name": "stdout",
          "output_type": "stream",
          "text": [
            "Enter number of hidden layers: 1\n"
          ]
        }
      ]
    },
    {
      "cell_type": "code",
      "source": [
        "n_output_neurons = int(input(\"Enter number of output neurons: \"))"
      ],
      "metadata": {
        "colab": {
          "base_uri": "https://localhost:8080/"
        },
        "id": "kEH6Lp147Krg",
        "outputId": "cc666b5d-d1a2-4e44-b785-809bd3526326"
      },
      "execution_count": null,
      "outputs": [
        {
          "name": "stdout",
          "output_type": "stream",
          "text": [
            "Enter number of output neurons: 2\n"
          ]
        }
      ]
    },
    {
      "cell_type": "code",
      "source": [
        "bias_values = []\n",
        "for i in range(n_hidden_layers+1):\n",
        "    bias_values.append(np.array(input(f\"Enter bias values for layer {i+1} separated by commas: \").split(','), dtype=float))"
      ],
      "metadata": {
        "colab": {
          "base_uri": "https://localhost:8080/"
        },
        "id": "OVQBcokU7Kzw",
        "outputId": "43fc2d43-9416-448d-dcd9-3e7b7a139a51"
      },
      "execution_count": null,
      "outputs": [
        {
          "name": "stdout",
          "output_type": "stream",
          "text": [
            "Enter bias values for layer 1 separated by commas: 0.25\n",
            "Enter bias values for layer 2 separated by commas: 0.35\n"
          ]
        }
      ]
    },
    {
      "cell_type": "code",
      "source": [
        "input_layer_size = input_data.shape[0]\n",
        "hidden_layer_sizes = []\n",
        "weights = []"
      ],
      "metadata": {
        "id": "HssLuuCi7RwQ"
      },
      "execution_count": null,
      "outputs": []
    },
    {
      "cell_type": "code",
      "source": [
        "for i in range(n_hidden_layers):\n",
        "    hidden_layer_sizes.append(int(input(f\"Enter number of neurons in hidden layer {i+1}: \")))\n",
        "    if i == 0:\n",
        "        weights.append(np.array(input(f\"Enter weights for input layer to hidden layer {i+1} separated by commas: \").split(','), dtype=float).reshape(input_layer_size, hidden_layer_sizes[i]))\n",
        "    else:\n",
        "        weights.append(np.array(input(f\"Enter weights for hidden layer {i} to hidden layer {i+1} separated by commas: \").split(','), dtype=float).reshape(hidden_layer_sizes[i-1], hidden_layer_sizes[i]))\n",
        "weights.append(np.array(input(f\"Enter weights for hidden layer {n_hidden_layers} to output layer separated by commas: \").split(','), dtype=float).reshape(hidden_layer_sizes[-1], n_output_neurons))"
      ],
      "metadata": {
        "colab": {
          "base_uri": "https://localhost:8080/"
        },
        "id": "qTMeyBnV7VAY",
        "outputId": "e73d9b86-069b-4802-bdd3-51546840276b"
      },
      "execution_count": null,
      "outputs": [
        {
          "name": "stdout",
          "output_type": "stream",
          "text": [
            "Enter number of neurons in hidden layer 1: 2\n",
            "Enter weights for input layer to hidden layer 1 separated by commas: 0.1,0.3,0.2,0.4\n",
            "Enter weights for hidden layer 1 to output layer separated by commas: 0.5,0.6,0.7,0.8\n"
          ]
        }
      ]
    },
    {
      "cell_type": "code",
      "source": [
        "learning_rate = 0.1\n",
        "num_iterations = 1000"
      ],
      "metadata": {
        "id": "EArD9XhB7hMA"
      },
      "execution_count": null,
      "outputs": []
    },
    {
      "cell_type": "code",
      "source": [
        "target = np.array(input(f\"Enter target output separated by commas: \").split(','), dtype=float)"
      ],
      "metadata": {
        "colab": {
          "base_uri": "https://localhost:8080/"
        },
        "id": "I0ZJbg607o1H",
        "outputId": "f906f291-1d99-460b-c4cf-a5db7ddaf1b3"
      },
      "execution_count": null,
      "outputs": [
        {
          "name": "stdout",
          "output_type": "stream",
          "text": [
            "Enter target output separated by commas: 0.05,0.95\n"
          ]
        }
      ]
    },
    {
      "cell_type": "code",
      "source": [
        "for i in range(num_iterations):\n",
        "\n",
        "    # Feedforward\n",
        "    hidden_layers = [input_data]\n",
        "    for j in range(len(hidden_layer_sizes)):\n",
        "        hidden_layer = sigmoid(np.dot(hidden_layers[j], weights[j]) + bias_values[j])\n",
        "        hidden_layers.append(hidden_layer)\n",
        "    output = sigmoid(np.dot(hidden_layers[-1], weights[-1]) + bias_values[-1])\n",
        "\n",
        "    # Backpropagation\n",
        "    error = output - target\n",
        "    delta = error * sigmoid_derivative(output)\n",
        "    deltas = [delta]\n",
        "    for j in range(len(hidden_layer_sizes)-1, -1, -1):\n",
        "        delta = np.dot(deltas[-1], weights[j+1].T) * sigmoid_derivative(hidden_layers[j+1])\n",
        "        deltas.append(delta)\n",
        "    deltas.reverse()\n",
        "\n",
        "    for j in range(len(hidden_layer_sizes)+1):\n",
        "        if j == 0:\n",
        "            layer_input = input_data\n",
        "        else:\n",
        "            layer_input = hidden_layers[j]\n",
        "        dtran = np.transpose(deltas[j].reshape(-1,1))\n",
        "        x = np.dot(layer_input.reshape(-1,1), dtran)\n",
        "        weights[j] -= learning_rate * x\n",
        "print(f\"Final output: {output}\")\n",
        "print(f\"Target output: {target}\")\n",
        "for i in range(len(weights)):\n",
        "    print(f\"Layer {i+1} weights: {weights[i]}\")\n",
        "for i in range(len(bias_values)):\n",
        "    print(f\"Layer {i+1} biases: {bias_values[i]}\")"
      ],
      "metadata": {
        "colab": {
          "base_uri": "https://localhost:8080/"
        },
        "id": "U1dt6yye7o4n",
        "outputId": "5d9c88cd-00fb-457c-9877-1e1cada9cd10"
      },
      "execution_count": null,
      "outputs": [
        {
          "output_type": "stream",
          "name": "stdout",
          "text": [
            "Final output: [0.11553311 0.90136951]\n",
            "Target output: [0.05 0.95]\n",
            "Layer 1 weights: [[0.18831975 0.37819991]\n",
            " [0.64159877 0.79099955]]\n",
            "Layer 2 weights: [[-1.87650738  1.30872775]\n",
            " [-1.77427554  1.53668455]]\n",
            "Layer 1 biases: [0.25]\n",
            "Layer 2 biases: [0.35]\n"
          ]
        }
      ]
    }
  ]
}